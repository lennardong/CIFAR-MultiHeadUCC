{
 "cells": [
  {
   "cell_type": "code",
   "execution_count": 1,
   "id": "initial_id",
   "metadata": {
    "ExecuteTime": {
     "end_time": "2023-11-09T16:27:15.525678Z",
     "start_time": "2023-11-09T16:27:12.993699Z"
    }
   },
   "outputs": [],
   "source": [
    "from dataclasses import dataclass\n",
    "import torch\n",
    "from typing import Dict\n",
    "import numpy as np\n",
    "import os"
   ]
  },
  {
   "cell_type": "markdown",
   "id": "4721089ce35828f",
   "metadata": {},
   "source": [
    "# Test Dataloader\n"
   ]
  },
  {
   "cell_type": "code",
   "execution_count": 2,
   "id": "349fa8ef1836543a",
   "metadata": {
    "ExecuteTime": {
     "end_time": "2023-11-09T16:27:15.710369Z",
     "start_time": "2023-11-09T16:27:15.531703Z"
    },
    "collapsed": false,
    "jupyter": {
     "outputs_hidden": false
    }
   },
   "outputs": [],
   "source": [
    "from dataloader import create_dataloaders\n",
    "from torchvision.transforms import functional as TF\n",
    "import random\n",
    "\n",
    "# Constants\n",
    "PATH = '../data/Splitted CIFAR10.npz'\n",
    "\n",
    "# Inits\n",
    "transforms = {\n",
    "    'random_horizontal_flip': lambda img: TF.hflip(img) if random.random() > 0.5 else img,\n",
    "    'random_vertical_flip': lambda img: TF.vflip(img) if random.random() > 0.5 else img,\n",
    "    'color_jitter': lambda img: TF.adjust_brightness(img, brightness_factor=random.uniform(0.8, 1.2)),\n",
    "    'normalize': lambda img: TF.normalize(img, mean=[0.4914, 0.4822, 0.4465], std=[0.247, 0.243, 0.261])\n",
    "}\n",
    "\n",
    "@dataclass\n",
    "class DataConfig:\n",
    "    npz_path_: str = '../data/Splitted CIFAR10.npz'\n",
    "    lower_ucc: int = 2\n",
    "    upper_ucc: int = 4\n",
    "    bag_size: int = 300\n",
    "    bag_fraction: float = 0.3\n",
    "    batch_size: int = 32\n",
    "    transform: Dict = None\n",
    "\n",
    "# TEST \n",
    "\n",
    "# data_config_test = DataConfig()\n",
    "# dataloaders = create_dataloaders(**data_config_test.__dict__)\n",
    "# \n",
    "# # Testing the dataloaders\n",
    "# for images, labels in dataloaders['train']:\n",
    "#     print(f'Images batch shape: {images.shape}')\n",
    "#     print(f'Labels batch shape: {labels.shape}')\n",
    "#     print(f'Labels: {labels}')\n",
    "#     print(f'Images: {images}')\n",
    "#     break"
   ]
  },
  {
   "cell_type": "markdown",
   "id": "bf91c4c3b06992c5",
   "metadata": {},
   "source": [
    "# Test Model"
   ]
  },
  {
   "cell_type": "code",
   "execution_count": 3,
   "id": "6df8a29dd2fae088",
   "metadata": {
    "ExecuteTime": {
     "end_time": "2023-11-09T16:27:16.049608Z",
     "start_time": "2023-11-09T16:27:15.712621Z"
    },
    "collapsed": false,
    "jupyter": {
     "outputs_hidden": false
    }
   },
   "outputs": [],
   "source": [
    "from model import UCCModel\n",
    "\n",
    "@dataclass\n",
    "class ModelConfig:\n",
    "    num_bins: int = 10\n",
    "    sigma : float = 0.1\n",
    "    dropout_rate: float = 0.1\n",
    "    num_classes: int = 10\n",
    "    embedding_size: int = 110\n",
    "    fc2_size: int = 512\n",
    "\n",
    "# Init    \n",
    "model_config_test = ModelConfig()\n",
    "model = UCCModel(**model_config_test.__dict__)\n",
    "\n",
    "# Test\n",
    "\n",
    "# # Mock data\n",
    "# batch_size, num_instances, channels, height, width = 2, 5, 3, 32, 32\n",
    "# random_data = torch.randn((batch_size, num_instances, channels, height, width))\n",
    "# \n",
    "# # Forward pass through the model\n",
    "# logits, decoded_imgs = model(random_data)\n",
    "# \n",
    "# # Outputs\n",
    "# print(\"Random Data:\", random_data.shape)\n",
    "# print(\"Logits shape:\", logits.shape)\n",
    "# print(\"Decoded images shape:\", decoded_imgs.shape)\n",
    "# print(model)"
   ]
  },
  {
   "cell_type": "markdown",
   "id": "c5f7574762f437ac",
   "metadata": {},
   "source": [
    "# Test Training Functions"
   ]
  },
  {
   "cell_type": "code",
   "execution_count": 4,
   "id": "c3c22b940651daba",
   "metadata": {
    "ExecuteTime": {
     "end_time": "2023-11-09T16:27:16.061200Z",
     "start_time": "2023-11-09T16:27:16.053034Z"
    },
    "collapsed": false,
    "jupyter": {
     "outputs_hidden": false
    }
   },
   "outputs": [],
   "source": [
    "from train import Trainer\n",
    "from torch.utils.data import Dataset, DataLoader\n",
    "import torch.nn as nn\n",
    "\n",
    "\n",
    "@dataclass\n",
    "class TrainConfig:\n",
    "    model: nn.Module\n",
    "    optimizer: torch.optim.Optimizer\n",
    "    train_loader: DataLoader\n",
    "    val_loader: DataLoader\n",
    "    model_name: str\n",
    "    total_steps: int = 10_000\n",
    "    eval_interval: int = 100\n",
    "    ucc_loss_weight: float = 0.5\n",
    "    model_dir: str = \"./models\"\n",
    "    device: torch.device = torch.device(\"cuda\" if torch.cuda.is_available() else \"cpu\")\n"
   ]
  },
  {
   "cell_type": "markdown",
   "id": "cce01dda515de70c",
   "metadata": {},
   "source": [
    "# Test Pipeline\n"
   ]
  },
  {
   "cell_type": "code",
   "execution_count": 5,
   "id": "eb2335da63e4a1b",
   "metadata": {
    "ExecuteTime": {
     "end_time": "2023-11-09T16:28:26.655602Z",
     "start_time": "2023-11-09T16:27:16.068228Z"
    },
    "collapsed": false,
    "jupyter": {
     "outputs_hidden": false
    }
   },
   "outputs": [
    {
     "name": "stdout",
     "output_type": "stream",
     "text": [
      "cuda\n",
      "##########################\n",
      "# Starting Training...\n",
      "#########################\n"
     ]
    },
    {
     "name": "stderr",
     "output_type": "stream",
     "text": [
      "Training Progress:  95%|▉| 95/100 [00:16<00:00,  5.89it/s, Train Loss: 1.1187, V"
     ]
    },
    {
     "name": "stdout",
     "output_type": "stream",
     "text": [
      "Training completed. Best validation accuracy: 0.5571\n"
     ]
    },
    {
     "name": "stderr",
     "output_type": "stream",
     "text": [
      "\n"
     ]
    }
   ],
   "source": [
    "############################################\n",
    "# CONFIGS\n",
    "############################################\n",
    "transforms = {\n",
    "    'random_horizontal_flip': lambda img: TF.hflip(img) if random.random() > 0.5 else img,\n",
    "    'random_vertical_flip': lambda img: TF.vflip(img) if random.random() > 0.5 else img,\n",
    "    'color_jitter': lambda img: TF.adjust_brightness(img, brightness_factor=random.uniform(0.8, 1.2)),\n",
    "    'normalize': lambda img: TF.normalize(img, mean=[0.4914, 0.4822, 0.4465], std=[0.247, 0.243, 0.261])\n",
    "}\n",
    "\n",
    "DATA_CONFIG_1 = DataConfig(\n",
    "    npz_path_ = PATH,\n",
    "    lower_ucc = 1,\n",
    "    upper_ucc = 4,\n",
    "    bag_size = 20,\n",
    "    bag_fraction = 0.2,\n",
    "    batch_size = 10,\n",
    "    transform = transforms\n",
    ")\n",
    "\n",
    "MODEL_CONFIG_1 = ModelConfig(\n",
    "    num_bins = 10,\n",
    "    sigma = 0.1,\n",
    "    dropout_rate = 0.5,\n",
    "    num_classes = 5,\n",
    "    embedding_size = 50,\n",
    "    fc2_size = 512\n",
    ")\n",
    "LEARNING_RATE = 0.0001\n",
    "\n",
    "############################################\n",
    "# Instantiate Parts\n",
    "############################################\n",
    "\n",
    "# data\n",
    "dataloaders = create_dataloaders(**DATA_CONFIG_1.__dict__)\n",
    "\n",
    "# model\n",
    "model = UCCModel(**MODEL_CONFIG_1.__dict__)\n",
    "\n",
    "# Optimizer \n",
    "optimizer = torch.optim.AdamW(model.parameters(), lr=LEARNING_RATE)\n",
    "\n",
    "############################################\n",
    "# Train\n",
    "############################################\n",
    "\n",
    "TRAIN_CONFIG_1 = TrainConfig(\n",
    "    model=model,\n",
    "    optimizer=optimizer,\n",
    "    train_loader=dataloaders['train'],\n",
    "    val_loader=dataloaders['val'],\n",
    "    model_name=\"test_model\",\n",
    "    total_steps=100,\n",
    "    eval_interval=5,\n",
    "    ucc_loss_weight=0.5,\n",
    "    model_dir=\"../models\",\n",
    "    device=torch.device(\"cuda\" if torch.cuda.is_available() else \"cpu\")\n",
    ")\n",
    "print(torch.device(\"cuda\" if torch.cuda.is_available() else \"cpu\"))\n",
    "trainer = Trainer(**TRAIN_CONFIG_1.__dict__)\n",
    "\n",
    "# TEST\n",
    "trainer.train()"
   ]
  },
  {
   "cell_type": "markdown",
   "id": "9f1805de1ca60554",
   "metadata": {},
   "source": [
    "# Experiments\n"
   ]
  },
  {
   "cell_type": "code",
   "execution_count": null,
   "id": "cbf1adb90272ef2c",
   "metadata": {
    "ExecuteTime": {
     "start_time": "2023-11-09T16:28:26.656305Z"
    },
    "collapsed": false,
    "is_executing": true,
    "jupyter": {
     "outputs_hidden": false
    }
   },
   "outputs": [
    {
     "name": "stdout",
     "output_type": "stream",
     "text": [
      "##########################\n",
      "# Starting Training...\n",
      "#########################\n"
     ]
    },
    {
     "name": "stderr",
     "output_type": "stream",
     "text": [
      "Training Progress:  34%|▎| 3400/10000 [17:10<32:44,  3.36it/s, Train Loss: nan, "
     ]
    }
   ],
   "source": [
    "\"\"\"\n",
    "EXPERIMENT CARD \n",
    "\n",
    "Config A\n",
    "- num_bins: 10\n",
    "- sigma : 0.1\n",
    "- dropout_rate: 0.3\n",
    "- num_classes: 5\n",
    "- embedding_size: 128\n",
    "- fc2_size: 256\n",
    "\n",
    "The hypothesis here is that a moderate number of bins and a standard sigma value provide a good starting point for KDE. The dropout rate is set at a typical middle ground to prevent overfitting. An embedding size of 128 and fc2 size of 256 are assumed to provide enough capacity to capture complex relationships in the data without overly complexifying the model.\n",
    "\"\"\"\n",
    "\n",
    "MODEL_NAME = \"UCC1to4_ExperimentA\"\n",
    "\n",
    "############################################\n",
    "# CONFIGS\n",
    "############################################\n",
    "transforms = {\n",
    "    'random_horizontal_flip': lambda img: TF.hflip(img) if random.random() > 0.5 else img,\n",
    "    'random_vertical_flip': lambda img: TF.vflip(img) if random.random() > 0.5 else img,\n",
    "    'color_jitter': lambda img: TF.adjust_brightness(img, brightness_factor=random.uniform(0.8, 1.2)),\n",
    "    'normalize': lambda img: TF.normalize(img, mean=[0.4914, 0.4822, 0.4465], std=[0.247, 0.243, 0.261])\n",
    "}\n",
    "DATA_CONFIG_1 = DataConfig(\n",
    "    npz_path_ = PATH,\n",
    "    lower_ucc = 1,\n",
    "    upper_ucc = 4,\n",
    "    bag_size = 100,\n",
    "    bag_fraction = 0.9,\n",
    "    batch_size = 10,\n",
    "    transform = transforms\n",
    ")\n",
    "MODEL_CONFIG_1 = ModelConfig(\n",
    "    num_bins = 10,\n",
    "    sigma = 0.1,\n",
    "    dropout_rate = 0.3,\n",
    "    num_classes = 5,\n",
    "    embedding_size = 128,\n",
    "    fc2_size = 256\n",
    ")\n",
    "LEARNING_RATE = 0.0001\n",
    "\n",
    "############################################\n",
    "# Instantiate Parts\n",
    "############################################\n",
    "\n",
    "dataloaders = create_dataloaders(**DATA_CONFIG_1.__dict__)\n",
    "model = UCCModel(**MODEL_CONFIG_1.__dict__)\n",
    "optimizer = torch.optim.AdamW(model.parameters(), lr=LEARNING_RATE)\n",
    "\n",
    "############################################\n",
    "# Train\n",
    "############################################\n",
    "TRAIN_CONFIG_1 = TrainConfig(\n",
    "    model=model,\n",
    "    optimizer=optimizer,\n",
    "    train_loader=dataloaders['train'],\n",
    "    val_loader=dataloaders['val'],\n",
    "    model_name=MODEL_NAME,\n",
    "    total_steps=10_000,\n",
    "    eval_interval=100,\n",
    "    ucc_loss_weight=0.5,\n",
    "    model_dir=\"../models\",\n",
    "    device=torch.device(\"cuda\" if torch.cuda.is_available() else \"cpu\")\n",
    ")\n",
    "\n",
    "torch.cuda.empty_cache()\n",
    "trainer = Trainer(**TRAIN_CONFIG_1.__dict__)\n",
    "trainer.train()\n"
   ]
  },
  {
   "cell_type": "code",
   "execution_count": null,
   "id": "fbfb439d7a773801",
   "metadata": {
    "collapsed": false,
    "is_executing": true,
    "jupyter": {
     "outputs_hidden": false
    }
   },
   "outputs": [],
   "source": [
    "\"\"\"\n",
    "EXPERIMENT CARD \n",
    "\n",
    "Config B\n",
    "- num_bins: 20\n",
    "- sigma : 0.05\n",
    "- dropout_rate: 0.5\n",
    "- num_classes: 5\n",
    "- embedding_size: 256\n",
    "- fc2_size: 128\n",
    "\n",
    "Doubling the number of bins might capture more nuances in data distribution, and halving sigma could provide finer estimation. A higher dropout rate is chosen to combat potential overfitting due to the increased complexity from more bins. The larger embedding size is to capture more detailed features, while a smaller fc2 size is to test if a bottleneck improves generalization.\n",
    "\"\"\"\n",
    "\n",
    "MODEL_NAME = \"UCC1to4_ExperimentB\"\n",
    "\n",
    "############################################\n",
    "# CONFIGS\n",
    "############################################\n",
    "transforms = {\n",
    "    'random_horizontal_flip': lambda img: TF.hflip(img) if random.random() > 0.5 else img,\n",
    "    'random_vertical_flip': lambda img: TF.vflip(img) if random.random() > 0.5 else img,\n",
    "    'color_jitter': lambda img: TF.adjust_brightness(img, brightness_factor=random.uniform(0.8, 1.2)),\n",
    "    'normalize': lambda img: TF.normalize(img, mean=[0.4914, 0.4822, 0.4465], std=[0.247, 0.243, 0.261])\n",
    "}\n",
    "DATA_CONFIG_1 = DataConfig(\n",
    "    npz_path_ = PATH,\n",
    "    lower_ucc = 1,\n",
    "    upper_ucc = 4,\n",
    "    bag_size = 100,\n",
    "    bag_fraction = 0.5,\n",
    "    batch_size = 64,\n",
    "    transform = transforms\n",
    ")\n",
    "MODEL_CONFIG_1 = ModelConfig(\n",
    "    num_bins = 20,\n",
    "    sigma = 0.05,\n",
    "    dropout_rate = 0.5,\n",
    "    num_classes = 5,\n",
    "    embedding_size = 256,\n",
    "    fc2_size = 128\n",
    ")\n",
    "LEARNING_RATE = 0.0001\n",
    "\n",
    "############################################\n",
    "# Instantiate Parts\n",
    "############################################\n",
    "\n",
    "dataloaders = create_dataloaders(**DATA_CONFIG_1.__dict__)\n",
    "model = UCCModel(**MODEL_CONFIG_1.__dict__)\n",
    "optimizer = torch.optim.AdamW(model.parameters(), lr=LEARNING_RATE)\n",
    "\n",
    "############################################\n",
    "# Train\n",
    "############################################\n",
    "TRAIN_CONFIG_1 = TrainConfig(\n",
    "    model=model,\n",
    "    optimizer=optimizer,\n",
    "    train_loader=dataloaders['train'],\n",
    "    val_loader=dataloaders['val'],\n",
    "    model_name=MODEL_NAME,\n",
    "    total_steps=5_000,\n",
    "    eval_interval=100,\n",
    "    ucc_loss_weight=0.5,\n",
    "    model_dir=\"../models\",\n",
    "    device=torch.device(\"cuda\" if torch.cuda.is_available() else \"cpu\")\n",
    ")\n",
    "\n",
    "torch.cuda.empty_cache()\n",
    "trainer = Trainer(**TRAIN_CONFIG_1.__dict__)\n",
    "trainer.train()\n"
   ]
  },
  {
   "cell_type": "code",
   "execution_count": null,
   "id": "42e3013cc7465e73",
   "metadata": {
    "collapsed": false,
    "is_executing": true,
    "jupyter": {
     "outputs_hidden": false
    },
    "tags": []
   },
   "outputs": [],
   "source": [
    "\"\"\"\n",
    "EXPERIMENT CARD \n",
    "\n",
    "Config C\n",
    "- num_bins: 5\n",
    "- sigma : 0.2\n",
    "- dropout_rate: 0.5\n",
    "- num_classes: 5\n",
    "- embedding_size: 64\n",
    "- fc2_size: 512\n",
    "\n",
    "With fewer bins and a larger sigma, the hypothesis is that the model might generalize better by avoiding capturing noise in the data distribution. A lower dropout rate is tested due to the simpler model. A smaller embedding is to see if a more compact representation suffices, while a larger fc2 size is to see if it allows for better classification boundaries.\n",
    "\"\"\"\n",
    "\n",
    "MODEL_NAME = \"UCC1to4_ExperimentC\"\n",
    "\n",
    "############################################\n",
    "# CONFIGS\n",
    "############################################\n",
    "\n",
    "MODEL_CONFIG_1 = ModelConfig(\n",
    "    num_bins = 5,\n",
    "    sigma = 0.2,\n",
    "    dropout_rate = 0.5,\n",
    "    num_classes = 5,\n",
    "    embedding_size = 64,\n",
    "    fc2_size = 512\n",
    ")\n",
    "LEARNING_RATE = 0.0001\n",
    "\n",
    "############################################\n",
    "# Instantiate Parts\n",
    "############################################\n",
    "\n",
    "dataloaders = create_dataloaders(**DATA_CONFIG_1.__dict__)\n",
    "model = UCCModel(**MODEL_CONFIG_1.__dict__)\n",
    "optimizer = torch.optim.AdamW(model.parameters(), lr=LEARNING_RATE)\n",
    "\n",
    "############################################\n",
    "# Train\n",
    "############################################\n",
    "TRAIN_CONFIG_1 = TrainConfig(\n",
    "    model=model,\n",
    "    optimizer=optimizer,\n",
    "    train_loader=dataloaders['train'],\n",
    "    val_loader=dataloaders['val'],\n",
    "    model_name=MODEL_NAME,\n",
    "    total_steps=5_000,\n",
    "    eval_interval=100,\n",
    "    ucc_loss_weight=0.5,\n",
    "    model_dir=\"../models\",\n",
    "    device=torch.device(\"cuda\" if torch.cuda.is_available() else \"cpu\")\n",
    ")\n",
    "\n",
    "torch.cuda.empty_cache()\n",
    "trainer = Trainer(**TRAIN_CONFIG_1.__dict__)\n",
    "trainer.train()\n"
   ]
  }
 ],
 "metadata": {
  "kernelspec": {
   "display_name": "Python 3 (ipykernel)",
   "language": "python",
   "name": "python3"
  },
  "language_info": {
   "codemirror_mode": {
    "name": "ipython",
    "version": 3
   },
   "file_extension": ".py",
   "mimetype": "text/x-python",
   "name": "python",
   "nbconvert_exporter": "python",
   "pygments_lexer": "ipython3",
   "version": "3.10.9"
  }
 },
 "nbformat": 4,
 "nbformat_minor": 5
}
